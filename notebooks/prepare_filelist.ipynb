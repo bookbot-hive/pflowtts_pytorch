{
 "cells": [
  {
   "cell_type": "code",
   "execution_count": 14,
   "metadata": {},
   "outputs": [],
   "source": [
    "from gruut import sentences\n",
    "\n",
    "def english_cleaners3(text):\n",
    "    \"\"\"Pipeline for English text, including phonemization + punctuation\"\"\"\n",
    "    text = text.replace(\"à\", \"a\")\n",
    "    phonemizer = lambda s: [\n",
    "        [word.text] if word.is_major_break or word.is_minor_break else word.phonemes\n",
    "        for words in sentences(s)\n",
    "        for word in words\n",
    "    ]\n",
    "\n",
    "    phonemes = phonemizer(text)\n",
    "    phonemes = [p for p in phonemes if p != None]\n",
    "    phonemes = \"# #\".join([\"#\".join(phn) for phn in phonemes])\n",
    "    return phonemes"
   ]
  },
  {
   "cell_type": "code",
   "execution_count": 13,
   "metadata": {},
   "outputs": [
    {
     "name": "stdout",
     "output_type": "stream",
     "text": [
      "[['b', 'ɹ', 'ˈɪ', 'k'], ['ə'], ['b', 'ɹ', 'ˈæ', 'k']]\n"
     ]
    },
    {
     "data": {
      "text/plain": [
       "'b#ɹ#ˈɪ#k# #ə# #b#ɹ#ˈæ#k'"
      ]
     },
     "execution_count": 13,
     "metadata": {},
     "output_type": "execute_result"
    }
   ],
   "source": [
    "english_cleaners3(\"bric-à-brac\")"
   ]
  },
  {
   "cell_type": "code",
   "execution_count": 15,
   "metadata": {},
   "outputs": [
    {
     "name": "stderr",
     "output_type": "stream",
     "text": [
      "/tmp/ipykernel_1637433/892393068.py:11: TqdmWarning: Iterable length 11917 > 1000 but `chunksize` is not set. This may seriously degrade multiprocess performance. Set `chunksize=1` or more.\n",
      "  phonemes = process_map(english_cleaners3, df[\"phonemes\"])\n"
     ]
    },
    {
     "data": {
      "application/vnd.jupyter.widget-view+json": {
       "model_id": "130b1d1a069b49e08752faf4acb8ef60",
       "version_major": 2,
       "version_minor": 0
      },
      "text/plain": [
       "  0%|          | 0/11917 [00:00<?, ?it/s]"
      ]
     },
     "metadata": {},
     "output_type": "display_data"
    },
    {
     "data": {
      "text/html": [
       "<div>\n",
       "<style scoped>\n",
       "    .dataframe tbody tr th:only-of-type {\n",
       "        vertical-align: middle;\n",
       "    }\n",
       "\n",
       "    .dataframe tbody tr th {\n",
       "        vertical-align: top;\n",
       "    }\n",
       "\n",
       "    .dataframe thead th {\n",
       "        text-align: right;\n",
       "    }\n",
       "</style>\n",
       "<table border=\"1\" class=\"dataframe\">\n",
       "  <thead>\n",
       "    <tr style=\"text-align: right;\">\n",
       "      <th></th>\n",
       "      <th>id</th>\n",
       "      <th>phonemes</th>\n",
       "    </tr>\n",
       "  </thead>\n",
       "  <tbody>\n",
       "    <tr>\n",
       "      <th>0</th>\n",
       "      <td>/root/pflowtts_pytorch/data/LJSpeech-1.1/wavs/...</td>\n",
       "      <td>ˈɪ#t# #h#ˈæ#z# #j#ˈu#s#t# #ˈʌ#ð#ɚ# #t#ɹ#ˈɛ#ʒ#ɚ...</td>\n",
       "    </tr>\n",
       "    <tr>\n",
       "      <th>1</th>\n",
       "      <td>/root/pflowtts_pytorch/data/LJSpeech-1.1/wavs/...</td>\n",
       "      <td>t#ə# #ə#v#ˈeɪ#l# #h#ɪ#m#s#ˈɛ#l#f# #ə#v# #h#ˈɪ#...</td>\n",
       "    </tr>\n",
       "    <tr>\n",
       "      <th>2</th>\n",
       "      <td>/root/pflowtts_pytorch/data/LJSpeech-1.1/wavs/...</td>\n",
       "      <td>ɔ#l#ð#ˈoʊ# #t͡ʃ#ˈi#f# #ɹ#ˈoʊ#l#i# #d#ˈʌ#z# #n#...</td>\n",
       "    </tr>\n",
       "    <tr>\n",
       "      <th>3</th>\n",
       "      <td>/root/pflowtts_pytorch/data/LJSpeech-1.1/wavs/...</td>\n",
       "      <td>ð#ə# #θ#ɹ#ˈi# #ˈɔ#f#ɪ#s#ɚ#z# #k#ə#n#f#ˈɚ#m# #ð...</td>\n",
       "    </tr>\n",
       "    <tr>\n",
       "      <th>4</th>\n",
       "      <td>/root/pflowtts_pytorch/data/LJSpeech-1.1/wavs/...</td>\n",
       "      <td>ð#ə# #t#ɹ#ˈaɪ#d# #ˈæ#n#d# #ð#ə# #ʌ#n#t#ɹ#ˈaɪ#d...</td>\n",
       "    </tr>\n",
       "    <tr>\n",
       "      <th>...</th>\n",
       "      <td>...</td>\n",
       "      <td>...</td>\n",
       "    </tr>\n",
       "    <tr>\n",
       "      <th>11912</th>\n",
       "      <td>/root/pflowtts_pytorch/data/LJSpeech-1.1/wavs/...</td>\n",
       "      <td>ˈɪ#n# #ə#n#ˈʌ#ð#ɚ# #p#ˈɑ#ɹ#t# #s#ˈɛ#v#ə#n# #p#...</td>\n",
       "    </tr>\n",
       "    <tr>\n",
       "      <th>11913</th>\n",
       "      <td>/root/pflowtts_pytorch/data/LJSpeech-1.1/wavs/...</td>\n",
       "      <td>h#ˌaʊ#ˈɛ#v#ɚ# #,# #ð#ə# #n#ˈaɪ#n#t#ˈi#n# #s#ˈɪ...</td>\n",
       "    </tr>\n",
       "    <tr>\n",
       "      <th>11914</th>\n",
       "      <td>/root/pflowtts_pytorch/data/LJSpeech-1.1/wavs/...</td>\n",
       "      <td>ˈɪ#t# #ˈɪ#z# #ð#ə# #ə#m#ˈɛ#ɹ#ɪ#k#ə#n# #p#ˈi#p#...</td>\n",
       "    </tr>\n",
       "    <tr>\n",
       "      <th>11915</th>\n",
       "      <td>/root/pflowtts_pytorch/data/LJSpeech-1.1/wavs/...</td>\n",
       "      <td>h#ˈæ#n#d#ɹ#ˌaɪ#t#ɪ#ŋ# #ˈɛ#k#s#p#ɚ#t#s# #,# #ˈæ...</td>\n",
       "    </tr>\n",
       "    <tr>\n",
       "      <th>11916</th>\n",
       "      <td>/root/pflowtts_pytorch/data/LJSpeech-1.1/wavs/...</td>\n",
       "      <td>ð#ə# #p#ɹ#ˈɪ#z#n#ɚ# #w#ə#z# #k#ə#n#v#ˈeɪ#d# #w...</td>\n",
       "    </tr>\n",
       "  </tbody>\n",
       "</table>\n",
       "<p>11917 rows × 2 columns</p>\n",
       "</div>"
      ],
      "text/plain": [
       "                                                      id  \\\n",
       "0      /root/pflowtts_pytorch/data/LJSpeech-1.1/wavs/...   \n",
       "1      /root/pflowtts_pytorch/data/LJSpeech-1.1/wavs/...   \n",
       "2      /root/pflowtts_pytorch/data/LJSpeech-1.1/wavs/...   \n",
       "3      /root/pflowtts_pytorch/data/LJSpeech-1.1/wavs/...   \n",
       "4      /root/pflowtts_pytorch/data/LJSpeech-1.1/wavs/...   \n",
       "...                                                  ...   \n",
       "11912  /root/pflowtts_pytorch/data/LJSpeech-1.1/wavs/...   \n",
       "11913  /root/pflowtts_pytorch/data/LJSpeech-1.1/wavs/...   \n",
       "11914  /root/pflowtts_pytorch/data/LJSpeech-1.1/wavs/...   \n",
       "11915  /root/pflowtts_pytorch/data/LJSpeech-1.1/wavs/...   \n",
       "11916  /root/pflowtts_pytorch/data/LJSpeech-1.1/wavs/...   \n",
       "\n",
       "                                                phonemes  \n",
       "0      ˈɪ#t# #h#ˈæ#z# #j#ˈu#s#t# #ˈʌ#ð#ɚ# #t#ɹ#ˈɛ#ʒ#ɚ...  \n",
       "1      t#ə# #ə#v#ˈeɪ#l# #h#ɪ#m#s#ˈɛ#l#f# #ə#v# #h#ˈɪ#...  \n",
       "2      ɔ#l#ð#ˈoʊ# #t͡ʃ#ˈi#f# #ɹ#ˈoʊ#l#i# #d#ˈʌ#z# #n#...  \n",
       "3      ð#ə# #θ#ɹ#ˈi# #ˈɔ#f#ɪ#s#ɚ#z# #k#ə#n#f#ˈɚ#m# #ð...  \n",
       "4      ð#ə# #t#ɹ#ˈaɪ#d# #ˈæ#n#d# #ð#ə# #ʌ#n#t#ɹ#ˈaɪ#d...  \n",
       "...                                                  ...  \n",
       "11912  ˈɪ#n# #ə#n#ˈʌ#ð#ɚ# #p#ˈɑ#ɹ#t# #s#ˈɛ#v#ə#n# #p#...  \n",
       "11913  h#ˌaʊ#ˈɛ#v#ɚ# #,# #ð#ə# #n#ˈaɪ#n#t#ˈi#n# #s#ˈɪ...  \n",
       "11914  ˈɪ#t# #ˈɪ#z# #ð#ə# #ə#m#ˈɛ#ɹ#ɪ#k#ə#n# #p#ˈi#p#...  \n",
       "11915  h#ˈæ#n#d#ɹ#ˌaɪ#t#ɪ#ŋ# #ˈɛ#k#s#p#ɚ#t#s# #,# #ˈæ...  \n",
       "11916  ð#ə# #p#ɹ#ˈɪ#z#n#ɚ# #w#ə#z# #k#ə#n#v#ˈeɪ#d# #w...  \n",
       "\n",
       "[11917 rows x 2 columns]"
      ]
     },
     "execution_count": 15,
     "metadata": {},
     "output_type": "execute_result"
    }
   ],
   "source": [
    "import pandas as pd\n",
    "import re\n",
    "from tqdm.contrib.concurrent import process_map\n",
    "\n",
    "# df = pd.read_csv(\"/root/hifi-gan/en_au_dean2zak/training.txt\", sep=\"|\", header=None, names=[\"id\", \"phonemes\"])\n",
    "df = pd.read_csv(\"/root/pflowtts_pytorch/data/LJSpeech-1.1/ljs_audio_text_train_filelist.txt\", sep=\"|\", header=None, names=[\"id\", \"phonemes\"])\n",
    "df[\"phonemes\"] = df[\"phonemes\"].apply(lambda x: x.replace(\"_1\", \"\").replace(\"_2\", \"\").replace(\". . .\", \".\"))\n",
    "# collapse multiple whitespace with regex\n",
    "df[\"phonemes\"] = df[\"phonemes\"].apply(lambda x: re.sub(r'\\s+', ' ', x).strip())\n",
    "phonemes = process_map(english_cleaners3, df[\"phonemes\"])\n",
    "df[\"phonemes\"] = phonemes\n",
    "# df[\"id\"] = df[\"id\"].apply(lambda x: \"/root/pflowtts_pytorch/en_au_dean2zak/audio/\" + x + \".wav\")\n",
    "df[\"id\"] = df[\"id\"].apply(lambda x: \"/root/pflowtts_pytorch/data/LJSpeech-1.1/wavs/\" + x.split(\"/\")[-1])\n",
    "# df.to_csv(\"/root/hifi-gan/en_au_dean2zak/filelists/training.txt\", sep=\"|\", header=None, index=None)\n",
    "df.to_csv(\"/root/pflowtts_pytorch/data/LJSpeech-1.1/filelists/ljs_audio_text_train_filelist.txt\", sep=\"|\", header=None, index=None)\n",
    "df"
   ]
  },
  {
   "cell_type": "code",
   "execution_count": 1,
   "metadata": {},
   "outputs": [],
   "source": [
    "from pydub import AudioSegment\n",
    "\n",
    "def resample(path):\n",
    "    sound = AudioSegment.from_file(path)\n",
    "    sound.export(path.replace(\"wavs/\", \"wavs_44/\"), format=\"wav\", parameters=[\"-ar\", \"44100\"])"
   ]
  },
  {
   "cell_type": "code",
   "execution_count": 5,
   "metadata": {},
   "outputs": [
    {
     "name": "stderr",
     "output_type": "stream",
     "text": [
      "/tmp/ipykernel_1637433/362126750.py:5: TqdmWarning: Iterable length 13100 > 1000 but `chunksize` is not set. This may seriously degrade multiprocess performance. Set `chunksize=1` or more.\n",
      "  _ = process_map(resample, audios)\n"
     ]
    },
    {
     "data": {
      "application/vnd.jupyter.widget-view+json": {
       "model_id": "c8294f8b6b8a4bf4972b66ce1699e752",
       "version_major": 2,
       "version_minor": 0
      },
      "text/plain": [
       "  0%|          | 0/13100 [00:00<?, ?it/s]"
      ]
     },
     "metadata": {},
     "output_type": "display_data"
    }
   ],
   "source": [
    "from glob import glob\n",
    "from tqdm.contrib.concurrent import process_map\n",
    "\n",
    "audios = sorted(glob(\"/root/LJSpeech-1.1/wavs/*.wav\"))\n",
    "_ = process_map(resample, audios)"
   ]
  },
  {
   "cell_type": "code",
   "execution_count": null,
   "metadata": {},
   "outputs": [],
   "source": []
  }
 ],
 "metadata": {
  "kernelspec": {
   "display_name": "pflowtts",
   "language": "python",
   "name": "python3"
  },
  "language_info": {
   "codemirror_mode": {
    "name": "ipython",
    "version": 3
   },
   "file_extension": ".py",
   "mimetype": "text/x-python",
   "name": "python",
   "nbconvert_exporter": "python",
   "pygments_lexer": "ipython3",
   "version": "3.10.14"
  }
 },
 "nbformat": 4,
 "nbformat_minor": 2
}
