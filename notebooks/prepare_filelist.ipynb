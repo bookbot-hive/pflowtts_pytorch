{
 "cells": [
  {
   "cell_type": "code",
   "execution_count": 22,
   "metadata": {},
   "outputs": [],
   "source": [
    "from gruut import sentences\n",
    "\n",
    "def english_cleaners3(text):\n",
    "    \"\"\"Pipeline for English text, including phonemization + punctuation\"\"\"\n",
    "    punctuations = list(\";:,.!?\")\n",
    "    phonemizer = lambda s: [\n",
    "        [word.text] if word.is_major_break or word.is_minor_break else word.phonemes\n",
    "        for words in sentences(s)\n",
    "        for word in words\n",
    "    ]\n",
    "\n",
    "    phonemes = phonemizer(text)\n",
    "    phonemes = \" \".join([\"\".join(phn) for phn in phonemes])\n",
    "    for p in punctuations:\n",
    "        phonemes = phonemes.replace(f\" {p}\", p)\n",
    "    return phonemes"
   ]
  },
  {
   "cell_type": "code",
   "execution_count": 26,
   "metadata": {},
   "outputs": [
    {
     "name": "stderr",
     "output_type": "stream",
     "text": [
      "/tmp/ipykernel_1637433/1896929074.py:9: TqdmWarning: Iterable length 1023 > 1000 but `chunksize` is not set. This may seriously degrade multiprocess performance. Set `chunksize=1` or more.\n",
      "  phonemes = process_map(english_cleaners3, df[\"phonemes\"])\n"
     ]
    },
    {
     "data": {
      "application/vnd.jupyter.widget-view+json": {
       "model_id": "f2fea417d80543f49375ea5939d85baa",
       "version_major": 2,
       "version_minor": 0
      },
      "text/plain": [
       "  0%|          | 0/1023 [00:00<?, ?it/s]"
      ]
     },
     "metadata": {},
     "output_type": "display_data"
    },
    {
     "data": {
      "text/html": [
       "<div>\n",
       "<style scoped>\n",
       "    .dataframe tbody tr th:only-of-type {\n",
       "        vertical-align: middle;\n",
       "    }\n",
       "\n",
       "    .dataframe tbody tr th {\n",
       "        vertical-align: top;\n",
       "    }\n",
       "\n",
       "    .dataframe thead th {\n",
       "        text-align: right;\n",
       "    }\n",
       "</style>\n",
       "<table border=\"1\" class=\"dataframe\">\n",
       "  <thead>\n",
       "    <tr style=\"text-align: right;\">\n",
       "      <th></th>\n",
       "      <th>id</th>\n",
       "      <th>phonemes</th>\n",
       "    </tr>\n",
       "  </thead>\n",
       "  <tbody>\n",
       "    <tr>\n",
       "      <th>0</th>\n",
       "      <td>/root/pflowtts_pytorch/en_au_dean2zak/audio/en...</td>\n",
       "      <td>plˈiz tˈɛl ðˈoʊz ˈɔn ðə ˈaʊtsaɪd ðˈæt ðə pˈipə...</td>\n",
       "    </tr>\n",
       "    <tr>\n",
       "      <th>1</th>\n",
       "      <td>/root/pflowtts_pytorch/en_au_dean2zak/audio/en...</td>\n",
       "      <td>hˈi kˈɚlz hˈɪz hˈænd sˈoʊ ðˈæt ðə wˈɪnd dˈʌz n...</td>\n",
       "    </tr>\n",
       "    <tr>\n",
       "      <th>2</th>\n",
       "      <td>/root/pflowtts_pytorch/en_au_dean2zak/audio/en...</td>\n",
       "      <td>dˈaɪjə pˈʊts hˈɚ hˈænd ˈʌp.</td>\n",
       "    </tr>\n",
       "    <tr>\n",
       "      <th>3</th>\n",
       "      <td>/root/pflowtts_pytorch/en_au_dean2zak/audio/en...</td>\n",
       "      <td>ˈaɪ wˈɪl jˈuz ˈɪt tə ɡˈɛt tə ðˈæt bˈoʊt.</td>\n",
       "    </tr>\n",
       "    <tr>\n",
       "      <th>4</th>\n",
       "      <td>/root/pflowtts_pytorch/en_au_dean2zak/audio/en...</td>\n",
       "      <td>bˈʌt ʃˈi mˈeɪ dɹˈɑp ə kɹˈʌm fɚ ˈʌs tə ˈit.</td>\n",
       "    </tr>\n",
       "    <tr>\n",
       "      <th>...</th>\n",
       "      <td>...</td>\n",
       "      <td>...</td>\n",
       "    </tr>\n",
       "    <tr>\n",
       "      <th>1018</th>\n",
       "      <td>/root/pflowtts_pytorch/en_au_dean2zak/audio/en...</td>\n",
       "      <td>ðə vˈɪlɪd͡ʒɚz ɡˈɛt ðə ɡɹˈoʊs ˈɛɡz.</td>\n",
       "    </tr>\n",
       "    <tr>\n",
       "      <th>1019</th>\n",
       "      <td>/root/pflowtts_pytorch/en_au_dean2zak/audio/en...</td>\n",
       "      <td>ə kˈætɚpˌɪlɚ wˈɪθ mˈɔɹ ðən ə fjˈu spˈaɪnz.</td>\n",
       "    </tr>\n",
       "    <tr>\n",
       "      <th>1020</th>\n",
       "      <td>/root/pflowtts_pytorch/en_au_dean2zak/audio/en...</td>\n",
       "      <td>ˈɪt d͡ʒˈʌst wˈɔnts tə bˈi sˈeɪf.</td>\n",
       "    </tr>\n",
       "    <tr>\n",
       "      <th>1021</th>\n",
       "      <td>/root/pflowtts_pytorch/en_au_dean2zak/audio/en...</td>\n",
       "      <td>ʃˈi stˈɑɹts tə ɹˈʌn ˈænd skˈɪp bˈaɪ ðə fˈɔɹɪst.</td>\n",
       "    </tr>\n",
       "    <tr>\n",
       "      <th>1022</th>\n",
       "      <td>/root/pflowtts_pytorch/en_au_dean2zak/audio/en...</td>\n",
       "      <td>ˈænd nˈaʊ hˈi hˈæz ɪnˈʌf ˈænəməlz ˈɔn hˈɪz hˈæ...</td>\n",
       "    </tr>\n",
       "  </tbody>\n",
       "</table>\n",
       "<p>1023 rows × 2 columns</p>\n",
       "</div>"
      ],
      "text/plain": [
       "                                                     id  \\\n",
       "0     /root/pflowtts_pytorch/en_au_dean2zak/audio/en...   \n",
       "1     /root/pflowtts_pytorch/en_au_dean2zak/audio/en...   \n",
       "2     /root/pflowtts_pytorch/en_au_dean2zak/audio/en...   \n",
       "3     /root/pflowtts_pytorch/en_au_dean2zak/audio/en...   \n",
       "4     /root/pflowtts_pytorch/en_au_dean2zak/audio/en...   \n",
       "...                                                 ...   \n",
       "1018  /root/pflowtts_pytorch/en_au_dean2zak/audio/en...   \n",
       "1019  /root/pflowtts_pytorch/en_au_dean2zak/audio/en...   \n",
       "1020  /root/pflowtts_pytorch/en_au_dean2zak/audio/en...   \n",
       "1021  /root/pflowtts_pytorch/en_au_dean2zak/audio/en...   \n",
       "1022  /root/pflowtts_pytorch/en_au_dean2zak/audio/en...   \n",
       "\n",
       "                                               phonemes  \n",
       "0     plˈiz tˈɛl ðˈoʊz ˈɔn ðə ˈaʊtsaɪd ðˈæt ðə pˈipə...  \n",
       "1     hˈi kˈɚlz hˈɪz hˈænd sˈoʊ ðˈæt ðə wˈɪnd dˈʌz n...  \n",
       "2                           dˈaɪjə pˈʊts hˈɚ hˈænd ˈʌp.  \n",
       "3              ˈaɪ wˈɪl jˈuz ˈɪt tə ɡˈɛt tə ðˈæt bˈoʊt.  \n",
       "4            bˈʌt ʃˈi mˈeɪ dɹˈɑp ə kɹˈʌm fɚ ˈʌs tə ˈit.  \n",
       "...                                                 ...  \n",
       "1018                 ðə vˈɪlɪd͡ʒɚz ɡˈɛt ðə ɡɹˈoʊs ˈɛɡz.  \n",
       "1019         ə kˈætɚpˌɪlɚ wˈɪθ mˈɔɹ ðən ə fjˈu spˈaɪnz.  \n",
       "1020                   ˈɪt d͡ʒˈʌst wˈɔnts tə bˈi sˈeɪf.  \n",
       "1021    ʃˈi stˈɑɹts tə ɹˈʌn ˈænd skˈɪp bˈaɪ ðə fˈɔɹɪst.  \n",
       "1022  ˈænd nˈaʊ hˈi hˈæz ɪnˈʌf ˈænəməlz ˈɔn hˈɪz hˈæ...  \n",
       "\n",
       "[1023 rows x 2 columns]"
      ]
     },
     "execution_count": 26,
     "metadata": {},
     "output_type": "execute_result"
    }
   ],
   "source": [
    "import pandas as pd\n",
    "import re\n",
    "from tqdm.contrib.concurrent import process_map\n",
    "\n",
    "df = pd.read_csv(\"/root/hifi-gan/en_au_dean2zak/validation.txt\", sep=\"|\", header=None, names=[\"id\", \"phonemes\"])\n",
    "df[\"phonemes\"] = df[\"phonemes\"].apply(lambda x: x.replace(\"_1\", \"\").replace(\"_2\", \"\").replace(\". . .\", \".\"))\n",
    "# collapse multiple whitespace with regex\n",
    "df[\"phonemes\"] = df[\"phonemes\"].apply(lambda x: re.sub(r'\\s+', ' ', x).strip())\n",
    "phonemes = process_map(english_cleaners3, df[\"phonemes\"])\n",
    "df[\"phonemes\"] = phonemes\n",
    "df[\"id\"] = df[\"id\"].apply(lambda x: \"/root/pflowtts_pytorch/en_au_dean2zak/audio/\" + x + \".wav\")\n",
    "df.to_csv(\"/root/hifi-gan/en_au_dean2zak/filelists/validation.txt\", sep=\"|\", header=None, index=None)\n",
    "df"
   ]
  },
  {
   "cell_type": "code",
   "execution_count": 1,
   "metadata": {},
   "outputs": [],
   "source": [
    "from pydub import AudioSegment\n",
    "\n",
    "def resample(path):\n",
    "    sound = AudioSegment.from_file(path)\n",
    "    sound.export(path.replace(\"wavs/\", \"wavs_44/\"), format=\"wav\", parameters=[\"-ar\", \"44100\"])"
   ]
  },
  {
   "cell_type": "code",
   "execution_count": 5,
   "metadata": {},
   "outputs": [
    {
     "name": "stderr",
     "output_type": "stream",
     "text": [
      "/tmp/ipykernel_1637433/362126750.py:5: TqdmWarning: Iterable length 13100 > 1000 but `chunksize` is not set. This may seriously degrade multiprocess performance. Set `chunksize=1` or more.\n",
      "  _ = process_map(resample, audios)\n"
     ]
    },
    {
     "data": {
      "application/vnd.jupyter.widget-view+json": {
       "model_id": "c8294f8b6b8a4bf4972b66ce1699e752",
       "version_major": 2,
       "version_minor": 0
      },
      "text/plain": [
       "  0%|          | 0/13100 [00:00<?, ?it/s]"
      ]
     },
     "metadata": {},
     "output_type": "display_data"
    }
   ],
   "source": [
    "from glob import glob\n",
    "from tqdm.contrib.concurrent import process_map\n",
    "\n",
    "audios = sorted(glob(\"/root/LJSpeech-1.1/wavs/*.wav\"))\n",
    "_ = process_map(resample, audios)"
   ]
  },
  {
   "cell_type": "code",
   "execution_count": 32,
   "metadata": {},
   "outputs": [],
   "source": [
    "_pad = \"_\"\n",
    "_punctuation = \";:,.!? \"\n",
    "_letters_ipa = [\n",
    "    \"a\",\n",
    "    \"b\",\n",
    "    \"d\",\n",
    "    \"e\",\n",
    "    \"f\",\n",
    "    \"h\",\n",
    "    \"i\",\n",
    "    \"j\",\n",
    "    \"k\",\n",
    "    \"l\",\n",
    "    \"m\",\n",
    "    \"n\",\n",
    "    \"o\",\n",
    "    \"p\",\n",
    "    \"s\",\n",
    "    \"t\",\n",
    "    \"u\",\n",
    "    \"v\",\n",
    "    \"w\",\n",
    "    \"z\",\n",
    "    \"æ\",\n",
    "    \"ð\",\n",
    "    \"ŋ\",\n",
    "    \"ɑ\",\n",
    "    \"ɔ\",\n",
    "    \"ə\",\n",
    "    \"ɚ\",\n",
    "    \"ɛ\",\n",
    "    \"ɡ\",\n",
    "    \"ɪ\",\n",
    "    \"ɹ\",\n",
    "    \"ʃ\",\n",
    "    \"ʊ\",\n",
    "    \"ʌ\",\n",
    "    \"ʒ\",\n",
    "    \"ˈ\",\n",
    "    \"ˌ\",\n",
    "    \"͡\",\n",
    "    \"θ\",\n",
    "]"
   ]
  },
  {
   "cell_type": "code",
   "execution_count": 33,
   "metadata": {},
   "outputs": [],
   "source": [
    "symbols = [_pad] + list(_punctuation) + _letters_ipa"
   ]
  },
  {
   "cell_type": "code",
   "execution_count": 34,
   "metadata": {},
   "outputs": [
    {
     "data": {
      "text/plain": [
       "47"
      ]
     },
     "execution_count": 34,
     "metadata": {},
     "output_type": "execute_result"
    }
   ],
   "source": [
    "len(symbols)"
   ]
  },
  {
   "cell_type": "code",
   "execution_count": null,
   "metadata": {},
   "outputs": [],
   "source": []
  }
 ],
 "metadata": {
  "kernelspec": {
   "display_name": "pflowtts",
   "language": "python",
   "name": "python3"
  },
  "language_info": {
   "codemirror_mode": {
    "name": "ipython",
    "version": 3
   },
   "file_extension": ".py",
   "mimetype": "text/x-python",
   "name": "python",
   "nbconvert_exporter": "python",
   "pygments_lexer": "ipython3",
   "version": "3.10.14"
  }
 },
 "nbformat": 4,
 "nbformat_minor": 2
}
